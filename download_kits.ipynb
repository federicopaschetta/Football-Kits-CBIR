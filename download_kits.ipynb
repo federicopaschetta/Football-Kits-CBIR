{
 "cells": [
  {
   "cell_type": "code",
   "execution_count": 15,
   "metadata": {},
   "outputs": [],
   "source": [
    "import pandas as pd"
   ]
  },
  {
   "cell_type": "code",
   "execution_count": 16,
   "metadata": {},
   "outputs": [],
   "source": [
    "df = pd.read_excel('All_kits.xlsx') # Gets excel file as dataframe\n",
    "list_kits = df['Kit Photo'].tolist() # Reduce dataframe to list of links to kit images\n",
    "\n"
   ]
  },
  {
   "cell_type": "code",
   "execution_count": 26,
   "metadata": {},
   "outputs": [],
   "source": [
    "import requests\n",
    "\n",
    "# Downloads image at the given image_url url and stores it in the folder with index given\n",
    "def download(image_url: str, index: int) -> None:\n",
    "    img_data = requests.get(image_url).content\n",
    "    with open(f'../image_name{index}.jpg', 'wb') as handler:\n",
    "        handler.write(img_data)\n",
    "\n",
    "# Loops on kits list and for each image downloads it\n",
    "for index, kit in enumerate(list_kits):\n",
    "    download(kit,index)"
   ]
  }
 ],
 "metadata": {
  "kernelspec": {
   "display_name": "Python 3",
   "language": "python",
   "name": "python3"
  },
  "language_info": {
   "codemirror_mode": {
    "name": "ipython",
    "version": 3
   },
   "file_extension": ".py",
   "mimetype": "text/x-python",
   "name": "python",
   "nbconvert_exporter": "python",
   "pygments_lexer": "ipython3",
   "version": "3.12.0"
  }
 },
 "nbformat": 4,
 "nbformat_minor": 2
}
